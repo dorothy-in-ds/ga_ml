{
 "cells": [
  {
   "cell_type": "code",
   "execution_count": 8,
   "metadata": {},
   "outputs": [],
   "source": [
    "import numpy as np\n",
    "\n",
    "\n",
    "class CustomFitness:\n",
    "    \"\"\"Class for generating your own fitness function.\n",
    "\n",
    "    Parameters\n",
    "    ----------\n",
    "    fitness_fn: callable\n",
    "        Function for calculating fitness of a state with the signature\n",
    "        :code:`fitness_fn(state, **kwargs)`.\n",
    "\n",
    "    problem_type: string, default: 'either'\n",
    "        Specifies problem type as 'discrete', 'continuous', 'tsp' or 'either'\n",
    "        (denoting either discrete or continuous).\n",
    "\n",
    "    kwargs: additional arguments\n",
    "        Additional parameters to be passed to the fitness function.\n",
    "\n",
    "    Example\n",
    "    -------\n",
    "    .. highlight:: python\n",
    "    .. code-block:: python\n",
    "\n",
    "        >>> import mlrose_hiive\n",
    "        >>> import numpy as np\n",
    "        >>> def cust_fn(state, c): return c*np.sum(state)\n",
    "        >>> kwargs = {'c': 10}\n",
    "        >>> fitness = mlrose_hiive.CustomFitness(cust_fn, **kwargs)\n",
    "        >>> state = np.array([1, 2, 3, 4, 5])\n",
    "        >>> fitness.evaluate(state)\n",
    "        150\n",
    "    \"\"\"\n",
    "\n",
    "    def __init__(self, fitness_fn, problem_type='continuous', **kwargs):\n",
    "\n",
    "        if problem_type not in ['discrete', 'continuous', 'tsp', 'either']:\n",
    "            raise Exception(\"\"\"problem_type does not exist.\"\"\")\n",
    "        self.fitness_fn = fitness_fn\n",
    "        self.problem_type = problem_type\n",
    "        self.kwargs = kwargs\n",
    "\n",
    "    def evaluate(self, state):\n",
    "        \"\"\"Evaluate the fitness of a state vector.\n",
    "\n",
    "        Parameters\n",
    "        ----------\n",
    "        state: array\n",
    "            State array for evaluation.\n",
    "\n",
    "        Returns\n",
    "        -------\n",
    "        fitness: float\n",
    "            Value of fitness function.\n",
    "        \"\"\"\n",
    "\n",
    "        fitness = self.fitness_fn(state, **self.kwargs)\n",
    "        return fitness\n",
    "\n",
    "    def get_prob_type(self):\n",
    "        \"\"\" Return the problem type.\n",
    "\n",
    "        Returns\n",
    "        -------\n",
    "        self.prob_type: string\n",
    "            Specifies problem type as 'discrete', 'continuous', 'tsp'\n",
    "            or 'either'.\n",
    "        \"\"\"\n",
    "        return self.problem_type"
   ]
  },
  {
   "cell_type": "code",
   "execution_count": 2,
   "metadata": {},
   "outputs": [],
   "source": [
    "import numpy as np\n",
    "import matplotlib.pyplot as plt\n",
    "from sklearn.datasets import load_iris\n",
    "from sklearn.model_selection import train_test_split\n",
    "from sklearn.preprocessing import OneHotEncoder, StandardScaler\n",
    "from tensorflow.keras.models import Sequential\n",
    "from tensorflow.keras.layers import Dense\n",
    "from tensorflow.keras.optimizers import Adam\n",
    "from tensorflow.keras.utils import to_categorical\n",
    "import mlrose_hiive as mlrose\n",
    "from time import time\n"
   ]
  },
  {
   "cell_type": "code",
   "execution_count": 3,
   "metadata": {},
   "outputs": [],
   "source": [
    "\n",
    "# Load the Iris dataset\n",
    "iris = load_iris()\n",
    "X = iris.data\n",
    "y = iris.target\n",
    "\n",
    "# One-hot encode the target labels\n",
    "y = to_categorical(y)\n",
    "\n",
    "# Split the data into training and test sets\n",
    "X_train, X_test, y_train, y_test = train_test_split(X, y, test_size=0.2, random_state=42)\n",
    "\n",
    "# Standardize the features\n",
    "scaler = StandardScaler()\n",
    "X_train = scaler.fit_transform(X_train)\n",
    "X_test = scaler.transform(X_test)\n"
   ]
  },
  {
   "cell_type": "code",
   "execution_count": 4,
   "metadata": {},
   "outputs": [],
   "source": [
    "\n",
    "# Define the neural network model\n",
    "def build_model():\n",
    "    model = Sequential()\n",
    "    model.add(Dense(10, input_dim=X_train.shape[1], activation='relu'))\n",
    "    model.add(Dense(10, activation='relu'))\n",
    "    model.add(Dense(y_train.shape[1], activation='softmax'))\n",
    "    return model\n",
    "\n",
    "# Define the custom fitness function\n",
    "def fitness_function(weights):\n",
    "    model = build_model()\n",
    "    start = 0\n",
    "    for layer in model.layers:\n",
    "        weights_shape = layer.get_weights()[0].shape\n",
    "        biases_shape = layer.get_weights()[1].shape\n",
    "        layer_weights = weights[start:start + np.prod(weights_shape)].reshape(weights_shape)\n",
    "        start += np.prod(weights_shape)\n",
    "        layer_biases = weights[start:start + np.prod(biases_shape)].reshape(biases_shape)\n",
    "        start += np.prod(biases_shape)\n",
    "        layer.set_weights([layer_weights, layer_biases])\n",
    "    model.compile(optimizer=Adam(), loss='categorical_crossentropy', metrics=['accuracy'])\n",
    "    loss, accuracy = model.evaluate(X_train, y_train, verbose=0)\n",
    "    return loss\n"
   ]
  },
  {
   "cell_type": "code",
   "execution_count": 6,
   "metadata": {},
   "outputs": [],
   "source": [
    "\n",
    "# Define the problem dimensions\n",
    "model = build_model()\n",
    "model.compile(optimizer=Adam(), loss='categorical_crossentropy', metrics=['accuracy'])\n",
    "total_weights = sum(np.prod(layer.get_weights()[0].shape) + np.prod(layer.get_weights()[1].shape) for layer in model.layers)\n"
   ]
  },
  {
   "cell_type": "code",
   "execution_count": 9,
   "metadata": {},
   "outputs": [],
   "source": [
    "\n",
    "fitness_function = CustomFitness(fitness_function)\n",
    "# Define the optimization problem\n",
    "problem = mlrose.ContinuousOpt(length=total_weights, fitness_fn=fitness_function, maximize=False)\n"
   ]
  },
  {
   "cell_type": "code",
   "execution_count": 11,
   "metadata": {},
   "outputs": [],
   "source": [
    "\n",
    "# Initialize results containers\n",
    "results = {\"RHC\": {}, \"SA\": {}, \"GA\": {}}\n",
    "histories = {\"RHC\": {}, \"SA\": {}, \"GA\": {}}\n",
    "training_times = {\"RHC\": 0, \"SA\": 0, \"GA\": 0}\n",
    "\n",
    "# Random Hill Climbing\n",
    "start_time = time()\n",
    "best_state_rhc, best_fitness_rhc, fitness_curve_rhc = mlrose.random_hill_climb(problem, max_attempts=100, max_iters=1000, curve=True, random_state=42)\n",
    "training_times[\"RHC\"] = time() - start_time\n",
    "results[\"RHC\"][\"state\"] = best_state_rhc\n",
    "results[\"RHC\"][\"fitness\"] = best_fitness_rhc\n",
    "histories[\"RHC\"][\"curve\"] = fitness_curve_rhc\n"
   ]
  },
  {
   "cell_type": "code",
   "execution_count": null,
   "metadata": {},
   "outputs": [],
   "source": []
  },
  {
   "cell_type": "code",
   "execution_count": 12,
   "metadata": {},
   "outputs": [],
   "source": [
    "\n",
    "# Simulated Annealing\n",
    "start_time = time()\n",
    "best_state_sa, best_fitness_sa, fitness_curve_sa = mlrose.simulated_annealing(problem, max_attempts=100, max_iters=1000, curve=True, random_state=42)\n",
    "training_times[\"SA\"] = time() - start_time\n",
    "results[\"SA\"][\"state\"] = best_state_sa\n",
    "results[\"SA\"][\"fitness\"] = best_fitness_sa\n",
    "histories[\"SA\"][\"curve\"] = fitness_curve_sa\n"
   ]
  },
  {
   "cell_type": "code",
   "execution_count": 13,
   "metadata": {},
   "outputs": [],
   "source": [
    "\n",
    "# Genetic Algorithm\n",
    "start_time = time()\n",
    "best_state_ga, best_fitness_ga, fitness_curve_ga = mlrose.genetic_alg(problem, max_attempts=100, max_iters=1000, curve=True, random_state=42, pop_size=300, mutation_prob=0.2)\n",
    "training_times[\"GA\"] = time() - start_time\n",
    "results[\"GA\"][\"state\"] = best_state_ga\n",
    "results[\"GA\"][\"fitness\"] = best_fitness_ga\n",
    "histories[\"GA\"][\"curve\"] = fitness_curve_ga\n"
   ]
  },
  {
   "cell_type": "code",
   "execution_count": 14,
   "metadata": {},
   "outputs": [
    {
     "name": "stdout",
     "output_type": "stream",
     "text": [
      "Test accuracy for RHC: 1.00\n",
      "WARNING:tensorflow:5 out of the last 14 calls to <function TensorFlowTrainer.make_test_function.<locals>.one_step_on_iterator at 0xab86c7560> triggered tf.function retracing. Tracing is expensive and the excessive number of tracings could be due to (1) creating @tf.function repeatedly in a loop, (2) passing tensors with different shapes, (3) passing Python objects instead of tensors. For (1), please define your @tf.function outside of the loop. For (2), @tf.function has reduce_retracing=True option that can avoid unnecessary retracing. For (3), please refer to https://www.tensorflow.org/guide/function#controlling_retracing and https://www.tensorflow.org/api_docs/python/tf/function for  more details.\n",
      "Test accuracy for SA: 0.90\n",
      "WARNING:tensorflow:5 out of the last 11 calls to <function TensorFlowTrainer.make_test_function.<locals>.one_step_on_iterator at 0xa65b5ce00> triggered tf.function retracing. Tracing is expensive and the excessive number of tracings could be due to (1) creating @tf.function repeatedly in a loop, (2) passing tensors with different shapes, (3) passing Python objects instead of tensors. For (1), please define your @tf.function outside of the loop. For (2), @tf.function has reduce_retracing=True option that can avoid unnecessary retracing. For (3), please refer to https://www.tensorflow.org/guide/function#controlling_retracing and https://www.tensorflow.org/api_docs/python/tf/function for  more details.\n",
      "Test accuracy for GA: 0.93\n"
     ]
    }
   ],
   "source": [
    "\n",
    "# Evaluate the optimized models on the test set\n",
    "test_accuracies = {}\n",
    "for algo in [\"RHC\", \"SA\", \"GA\"]:\n",
    "    model = build_model()\n",
    "    start = 0\n",
    "    for layer in model.layers:\n",
    "        weights_shape = layer.get_weights()[0].shape\n",
    "        biases_shape = layer.get_weights()[1].shape\n",
    "        layer_weights = results[algo][\"state\"][start:start + np.prod(weights_shape)].reshape(weights_shape)\n",
    "        start += np.prod(weights_shape)\n",
    "        layer_biases = results[algo][\"state\"][start:start + np.prod(biases_shape)].reshape(biases_shape)\n",
    "        start += np.prod(biases_shape)\n",
    "        layer.set_weights([layer_weights, layer_biases])\n",
    "    model.compile(optimizer=Adam(), loss='categorical_crossentropy', metrics=['accuracy'])\n",
    "    loss, accuracy = model.evaluate(X_test, y_test, verbose=0)\n",
    "    test_accuracies[algo] = accuracy\n",
    "    print(f\"Test accuracy for {algo}: {accuracy:.2f}\")\n"
   ]
  },
  {
   "cell_type": "code",
   "execution_count": null,
   "metadata": {},
   "outputs": [],
   "source": []
  }
 ],
 "metadata": {
  "kernelspec": {
   "display_name": "gaml",
   "language": "python",
   "name": "python3"
  },
  "language_info": {
   "codemirror_mode": {
    "name": "ipython",
    "version": 3
   },
   "file_extension": ".py",
   "mimetype": "text/x-python",
   "name": "python",
   "nbconvert_exporter": "python",
   "pygments_lexer": "ipython3",
   "version": "3.12.3"
  }
 },
 "nbformat": 4,
 "nbformat_minor": 2
}
